{
 "cells": [
  {
   "cell_type": "code",
   "execution_count": 32,
   "id": "53f03cc1",
   "metadata": {},
   "outputs": [],
   "source": [
    "import pandas as pd\n",
    "trip=pd.DataFrame({\n",
    "    \"origin\":[\"PMI\",\"ATH\",\"JFK\",\"HND\"\n",
    "             ],\n",
    "    \"destination\":[\n",
    "        \"OPO\",\n",
    "        \"BCN\",\n",
    "        \"MAD\",\n",
    "        \"LAX\"\n",
    "    ],\n",
    "    \"internal_flight_ids\":[\n",
    "        [2,1],\n",
    "        [3],\n",
    "        [5,4,6],\n",
    "        [8,9,7,0]\n",
    "    ]\n",
    "})"
   ]
  },
  {
   "cell_type": "code",
   "execution_count": 4,
   "id": "66db17d9",
   "metadata": {},
   "outputs": [],
   "source": [
    "import findspark\n",
    "findspark.init()\n",
    "import pyspark\n",
    "from pyspark.sql import SparkSession\n",
    "spark = SparkSession.builder.getOrCreate()"
   ]
  },
  {
   "cell_type": "code",
   "execution_count": 34,
   "id": "33e15079",
   "metadata": {},
   "outputs": [],
   "source": [
    "trips=spark.createDataFrame(trip)"
   ]
  },
  {
   "cell_type": "code",
   "execution_count": 35,
   "id": "944e4f49",
   "metadata": {},
   "outputs": [
    {
     "name": "stdout",
     "output_type": "stream",
     "text": [
      "+------+-----------+-------------------+\n",
      "|origin|destination|internal_flight_ids|\n",
      "+------+-----------+-------------------+\n",
      "|   PMI|        OPO|             [2, 1]|\n",
      "|   ATH|        BCN|                [3]|\n",
      "|   JFK|        MAD|          [5, 4, 6]|\n",
      "|   HND|        LAX|       [8, 9, 7, 0]|\n",
      "+------+-----------+-------------------+\n",
      "\n"
     ]
    }
   ],
   "source": [
    "trips.show()"
   ]
  },
  {
   "cell_type": "code",
   "execution_count": 37,
   "id": "a5810b03",
   "metadata": {},
   "outputs": [],
   "source": [
    "flights=pd.DataFrame({\n",
    "    \"internal_flight_id\":[0,1,2,3,4,5,6,7,8,9],\n",
    "    \"public_flight_number\":[\n",
    "        \"FR5763\",\"UT9586\",\"B4325\",\"RW35675\",\"LP656\",\n",
    "    \"NB4321\",\"CX4599\",\"AZ8844\",\"KH8851\",\"OP8777\"\n",
    "    ]\n",
    "})"
   ]
  },
  {
   "cell_type": "code",
   "execution_count": 38,
   "id": "28e38944",
   "metadata": {},
   "outputs": [],
   "source": [
    "flight=spark.createDataFrame(flights)"
   ]
  },
  {
   "cell_type": "code",
   "execution_count": 39,
   "id": "530eb28b",
   "metadata": {},
   "outputs": [
    {
     "name": "stdout",
     "output_type": "stream",
     "text": [
      "+------------------+--------------------+\n",
      "|internal_flight_id|public_flight_number|\n",
      "+------------------+--------------------+\n",
      "|                 0|              FR5763|\n",
      "|                 1|              UT9586|\n",
      "|                 2|               B4325|\n",
      "|                 3|             RW35675|\n",
      "|                 4|               LP656|\n",
      "|                 5|              NB4321|\n",
      "|                 6|              CX4599|\n",
      "|                 7|              AZ8844|\n",
      "|                 8|              KH8851|\n",
      "|                 9|              OP8777|\n",
      "+------------------+--------------------+\n",
      "\n"
     ]
    }
   ],
   "source": [
    "flight.show()"
   ]
  },
  {
   "cell_type": "code",
   "execution_count": 40,
   "id": "9a3b2715",
   "metadata": {},
   "outputs": [],
   "source": [
    "from pyspark.sql.functions import col,explode,posexplode,collect_list,monotonically_increasing_id\n",
    "from pyspark.sql.window import Window"
   ]
  },
  {
   "cell_type": "code",
   "execution_count": 41,
   "id": "773558a8",
   "metadata": {},
   "outputs": [],
   "source": [
    "trips=trips.withColumn(\"row_id\",monotonically_increasing_id())"
   ]
  },
  {
   "cell_type": "code",
   "execution_count": 42,
   "id": "b25f1581",
   "metadata": {},
   "outputs": [
    {
     "name": "stdout",
     "output_type": "stream",
     "text": [
      "+------+-----------+-------------------+-----------+\n",
      "|origin|destination|internal_flight_ids|     row_id|\n",
      "+------+-----------+-------------------+-----------+\n",
      "|   PMI|        OPO|             [2, 1]| 8589934592|\n",
      "|   ATH|        BCN|                [3]|25769803776|\n",
      "|   JFK|        MAD|          [5, 4, 6]|42949672960|\n",
      "|   HND|        LAX|       [8, 9, 7, 0]|60129542144|\n",
      "+------+-----------+-------------------+-----------+\n",
      "\n"
     ]
    }
   ],
   "source": [
    "trips.show()"
   ]
  },
  {
   "cell_type": "code",
   "execution_count": 43,
   "id": "beb4f723",
   "metadata": {},
   "outputs": [
    {
     "name": "stdout",
     "output_type": "stream",
     "text": [
      "+-----------+------------------+\n",
      "|     row_id|internal_flight_id|\n",
      "+-----------+------------------+\n",
      "| 8589934592|                 2|\n",
      "| 8589934592|                 1|\n",
      "|25769803776|                 3|\n",
      "|42949672960|                 5|\n",
      "|42949672960|                 4|\n",
      "|42949672960|                 6|\n",
      "|60129542144|                 8|\n",
      "|60129542144|                 9|\n",
      "|60129542144|                 7|\n",
      "|60129542144|                 0|\n",
      "+-----------+------------------+\n",
      "\n"
     ]
    }
   ],
   "source": [
    "trip_explode=trips\\\n",
    "             .select(col(\"row_id\"),explode(col(\"internal_flight_ids\"))\\\n",
    "                    .alias(\"internal_flight_id\"))\n",
    "trip_explode.show()"
   ]
  },
  {
   "cell_type": "code",
   "execution_count": 47,
   "id": "7a0e0cf6",
   "metadata": {},
   "outputs": [
    {
     "name": "stdout",
     "output_type": "stream",
     "text": [
      "+-----------+------------------+------------------+--------------------+\n",
      "|     row_id|internal_flight_id|internal_flight_id|public_flight_number|\n",
      "+-----------+------------------+------------------+--------------------+\n",
      "|60129542144|                 0|                 0|              FR5763|\n",
      "|60129542144|                 7|                 7|              AZ8844|\n",
      "|42949672960|                 6|                 6|              CX4599|\n",
      "|60129542144|                 9|                 9|              OP8777|\n",
      "|42949672960|                 5|                 5|              NB4321|\n",
      "| 8589934592|                 1|                 1|              UT9586|\n",
      "|25769803776|                 3|                 3|             RW35675|\n",
      "|60129542144|                 8|                 8|              KH8851|\n",
      "| 8589934592|                 2|                 2|               B4325|\n",
      "|42949672960|                 4|                 4|               LP656|\n",
      "+-----------+------------------+------------------+--------------------+\n",
      "\n"
     ]
    }
   ],
   "source": [
    "explode_with_flight=trip_explode.join(flight,trip_explode.internal_flight_id==flight.internal_flight_id)\n",
    "\n",
    "explode_with_flight.show()"
   ]
  },
  {
   "cell_type": "code",
   "execution_count": 50,
   "id": "5d4e5768",
   "metadata": {},
   "outputs": [
    {
     "name": "stdout",
     "output_type": "stream",
     "text": [
      "+-----------+---------------------+\n",
      "|     row_id|public_flight_numbers|\n",
      "+-----------+---------------------+\n",
      "| 8589934592|      [UT9586, B4325]|\n",
      "|60129542144| [FR5763, AZ8844, ...|\n",
      "|42949672960| [CX4599, NB4321, ...|\n",
      "|25769803776|            [RW35675]|\n",
      "+-----------+---------------------+\n",
      "\n"
     ]
    }
   ],
   "source": [
    "final=explode_with_flight.groupBy(\"row_id\")\\\n",
    "                          .agg(collect_list(\"public_flight_number\")\\\n",
    "                              .alias(\"public_flight_numbers\"))\n",
    "\n",
    "final.show()"
   ]
  },
  {
   "cell_type": "code",
   "execution_count": 51,
   "id": "16659aa3",
   "metadata": {},
   "outputs": [
    {
     "name": "stdout",
     "output_type": "stream",
     "text": [
      "+---------------------+------+-----------+\n",
      "|public_flight_numbers|origin|destination|\n",
      "+---------------------+------+-----------+\n",
      "|      [UT9586, B4325]|   PMI|        OPO|\n",
      "| [FR5763, AZ8844, ...|   HND|        LAX|\n",
      "| [CX4599, NB4321, ...|   JFK|        MAD|\n",
      "|            [RW35675]|   ATH|        BCN|\n",
      "+---------------------+------+-----------+\n",
      "\n"
     ]
    }
   ],
   "source": [
    "trip_with_flight_number=final.join(trips,on=\"row_id\")\\\n",
    "                        .drop(\"row_id\")\\\n",
    "                         .drop(\"internal_flight_ids\")\n",
    "\n",
    "trip_with_flight_number.show()"
   ]
  },
  {
   "cell_type": "code",
   "execution_count": null,
   "id": "3fcfd75f",
   "metadata": {},
   "outputs": [],
   "source": [
    "# correct method"
   ]
  },
  {
   "cell_type": "code",
   "execution_count": 56,
   "id": "285729d2",
   "metadata": {},
   "outputs": [
    {
     "name": "stdout",
     "output_type": "stream",
     "text": [
      "+-----------+--------+------------------+\n",
      "|     row_id|position|internal_flight_id|\n",
      "+-----------+--------+------------------+\n",
      "| 8589934592|       0|                 2|\n",
      "| 8589934592|       1|                 1|\n",
      "|25769803776|       0|                 3|\n",
      "|42949672960|       0|                 5|\n",
      "|42949672960|       1|                 4|\n",
      "|42949672960|       2|                 6|\n",
      "|60129542144|       0|                 8|\n",
      "|60129542144|       1|                 9|\n",
      "|60129542144|       2|                 7|\n",
      "|60129542144|       3|                 0|\n",
      "+-----------+--------+------------------+\n",
      "\n"
     ]
    }
   ],
   "source": [
    "exploded = trips \\\n",
    "    .select(col(\"row_id\"),\n",
    "            posexplode(col(\"internal_flight_ids\"))) \\\n",
    "    .withColumnRenamed(\"col\", \"internal_flight_id\") \\\n",
    "    .withColumnRenamed(\"pos\", \"position\")\n",
    "\n",
    "exploded.show()"
   ]
  },
  {
   "cell_type": "code",
   "execution_count": 59,
   "id": "1f62b1a9",
   "metadata": {},
   "outputs": [
    {
     "name": "stdout",
     "output_type": "stream",
     "text": [
      "+-----------+--------------------+\n",
      "|     row_id|public_flight_number|\n",
      "+-----------+--------------------+\n",
      "| 8589934592|     [B4325, UT9586]|\n",
      "| 8589934592|     [B4325, UT9586]|\n",
      "|60129542144|[KH8851, OP8777, ...|\n",
      "|60129542144|[KH8851, OP8777, ...|\n",
      "|60129542144|[KH8851, OP8777, ...|\n",
      "|60129542144|[KH8851, OP8777, ...|\n",
      "|42949672960|[NB4321, LP656, C...|\n",
      "|42949672960|[NB4321, LP656, C...|\n",
      "|42949672960|[NB4321, LP656, C...|\n",
      "|25769803776|           [RW35675]|\n",
      "+-----------+--------------------+\n",
      "\n"
     ]
    }
   ],
   "source": [
    "exploded_with_flight_number=exploded.join(flight,on=\"internal_flight_id\")\n",
    "\n",
    "collected=exploded_with_flight_number.withColumn(\"public_flight_number\",\n",
    "                                                collect_list(\"public_flight_number\")\n",
    "                                                .over(Window\\\n",
    "                                                     .partitionBy(\"row_id\")\\\n",
    "                                                     .orderBy(\"position\")\\\n",
    "                                                     .rowsBetween(Window.unboundedPreceding,\n",
    "                                                                Window.unboundedFollowing)))\\\n",
    "                                 .select([\"row_id\",\"public_flight_number\"])\n",
    "\n",
    "collected.show()\n",
    "                                    "
   ]
  },
  {
   "cell_type": "code",
   "execution_count": 60,
   "id": "1eb1c3e8",
   "metadata": {},
   "outputs": [
    {
     "name": "stdout",
     "output_type": "stream",
     "text": [
      "+--------------------+------+-----------+\n",
      "|public_flight_number|origin|destination|\n",
      "+--------------------+------+-----------+\n",
      "|     [B4325, UT9586]|   PMI|        OPO|\n",
      "|[KH8851, OP8777, ...|   HND|        LAX|\n",
      "|[NB4321, LP656, C...|   JFK|        MAD|\n",
      "|           [RW35675]|   ATH|        BCN|\n",
      "+--------------------+------+-----------+\n",
      "\n"
     ]
    }
   ],
   "source": [
    "trips_with_flight_numbers = collected \\\n",
    "    .dropDuplicates() \\\n",
    "    .join(trips, on=\"row_id\") \\\n",
    "    .drop(\"row_id\") \\\n",
    "    .drop(\"internal_flight_ids\")\n",
    "trips_with_flight_numbers.show()"
   ]
  },
  {
   "cell_type": "code",
   "execution_count": null,
   "id": "86e8de96",
   "metadata": {},
   "outputs": [],
   "source": []
  }
 ],
 "metadata": {
  "kernelspec": {
   "display_name": "Python 3",
   "language": "python",
   "name": "python3"
  },
  "language_info": {
   "codemirror_mode": {
    "name": "ipython",
    "version": 3
   },
   "file_extension": ".py",
   "mimetype": "text/x-python",
   "name": "python",
   "nbconvert_exporter": "python",
   "pygments_lexer": "ipython3",
   "version": "3.8.8"
  }
 },
 "nbformat": 4,
 "nbformat_minor": 5
}
